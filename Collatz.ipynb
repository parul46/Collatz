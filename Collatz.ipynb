{
 "cells": [
  {
   "cell_type": "code",
   "execution_count": 23,
   "metadata": {},
   "outputs": [
    {
     "ename": "SyntaxError",
     "evalue": "invalid character in identifier (<ipython-input-23-b57349171dba>, line 1)",
     "output_type": "error",
     "traceback": [
      "\u001b[0;36m  File \u001b[0;32m\"<ipython-input-23-b57349171dba>\"\u001b[0;36m, line \u001b[0;32m1\u001b[0m\n\u001b[0;31m    import matplotlib.pyplot as plt\u001b[0m\n\u001b[0m                    ^\u001b[0m\n\u001b[0;31mSyntaxError\u001b[0m\u001b[0;31m:\u001b[0m invalid character in identifier\n"
     ]
    }
   ],
   "source": [
    "import matplotlib.pyplot as plt\n",
    "import numpy as np\n",
    "from collections import defaultdict\n",
    "\n",
    "dict = defaultdict(list)\n",
    "#this function returns the number of itertations for a given number n\n",
    "def collatz(n):\n",
    "  count = 0\n",
    "  while n &gt; 1:\n",
    "      if n % 2 == 0:\n",
    "          n = n/2\n",
    "      else:\n",
    "          n=3*n+1\n",
    "    \n",
    "      #print(n)\n",
    "      count=count+1\n",
    "  return int(count)\n",
    "    \n",
    "for i in range(1,1000):\n",
    "     dict[i].append(collatz(i))\n",
    "\n",
    "print(dict)\n",
    "#approach 1\n",
    "#x=dict.keys()\n",
    "#y=dict.values()\n",
    "#plt.hist(x,y,histtype=&#39;bar&#39;)\n",
    "#approach2\n",
    "#pos = np.arange(len(dict.keys()))\n",
    "#width = 1.0 \n",
    "#ax.set_xticks(pos + (width / 2))\n",
    "#ax.set_xticklabels(dict.keys())\n",
    "#plt.bar(dict.keys(),dict.values(), width, color=&#39;g&#39;,label = &quot;Real dist\n",
    "ribution&quot;)\n",
    "#plt.show()\n",
    "#approach 3\n",
    "keys = dict.keys()\n",
    "vals = dict.values()\n",
    "plt.ylim([0,1000])\n",
    "plt.ylabel(&#39;No Of Iterations&#39;) \n",
    "plt.xlabel(&#39;number&#39;)\n",
    "plt.xticks(list(keys))\n",
    "plt.bar(keys, np.divide(keys,values. label=&quot;Real distribution&quot;)\n",
    "plt.legend (bbox_to_anchor=(1, 1), loc=&quot;upper right&quot;, borderaxespad=0)"
   ]
  },
  {
   "cell_type": "code",
   "execution_count": null,
   "metadata": {},
   "outputs": [],
   "source": []
  },
  {
   "cell_type": "code",
   "execution_count": null,
   "metadata": {},
   "outputs": [],
   "source": []
  },
  {
   "cell_type": "code",
   "execution_count": null,
   "metadata": {},
   "outputs": [],
   "source": []
  }
 ],
 "metadata": {
  "kernelspec": {
   "display_name": "Python 3",
   "language": "python",
   "name": "python3"
  },
  "language_info": {
   "codemirror_mode": {
    "name": "ipython",
    "version": 3
   },
   "file_extension": ".py",
   "mimetype": "text/x-python",
   "name": "python",
   "nbconvert_exporter": "python",
   "pygments_lexer": "ipython3",
   "version": "3.8.5"
  }
 },
 "nbformat": 4,
 "nbformat_minor": 4
}
