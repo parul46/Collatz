{
 "cells": [
  {
   "cell_type": "code",
   "execution_count": 10,
   "metadata": {},
   "outputs": [],
   "source": [
    "import matplotlib.pyplot as plt\n",
    "import numpy as np\n"
   ]
  },
  {
   "cell_type": "code",
   "execution_count": 15,
   "metadata": {},
   "outputs": [],
   "source": [
    "dict =[]\n",
    "#this function returns the number of itertations for a given number n\n",
    "def collatz(n):\n",
    "  count = 0\n",
    "  while n > 1:\n",
    "      if n % 2 == 0:\n",
    "          n = n/2\n",
    "      else:\n",
    "          n=3*n+1\n",
    "    \n",
    "      #print(n)\n",
    "      count=count+1\n",
    "  return int(count)\n",
    "    \n",
    "\n",
    "for i in range(1,1000):\n",
    "     dict.append(collatz(i))\n",
    "\n",
    "#print(dict)\n",
    "\n"
   ]
  },
  {
   "cell_type": "code",
   "execution_count": 16,
   "metadata": {},
   "outputs": [
    {
     "data": {
      "text/plain": [
       "(array([ 1.,  0.,  0.,  0.,  0.,  1.,  0.,  0.,  0.,  0.,  0.,  1.,  0.,\n",
       "         0.,  0.,  0.,  1.,  0.,  0.,  0.,  0.,  0.,  1.,  0.,  0.,  0.,\n",
       "         0.,  0.,  2.,  0.,  0.,  0.,  0.,  2.,  0.,  0.,  0.,  0.,  0.,\n",
       "         4.,  0.,  0.,  0.,  0.,  4.,  0.,  0.,  0.,  0.,  0.,  6.,  0.,\n",
       "         0.,  0.,  0.,  0.,  5.,  0.,  0.,  0.,  0.,  7.,  0.,  0.,  0.,\n",
       "         0.,  0.,  9.,  0.,  0.,  0.,  0.,  0.,  8.,  0.,  0.,  0.,  0.,\n",
       "        12.,  0.,  0.,  0.,  0.,  0., 17.,  0.,  0.,  0.,  0., 12.,  0.,\n",
       "         0.,  0.,  0.,  0., 16.,  0.,  0.,  0.,  0.,  0.,  9.,  0.,  0.,\n",
       "         0.,  0., 15.,  0.,  0.,  0.,  0.,  0., 22.,  0.,  0.,  0.,  0.,\n",
       "        11.,  0.,  0.,  0.,  0.,  0., 18.,  0.,  0.,  0.,  0.,  0., 22.,\n",
       "         0.,  0.,  0.,  0., 14.,  0.,  0.,  0.,  0.,  0., 23.,  0.,  0.,\n",
       "         0.,  0.,  0.,  9.,  0.,  0.,  0.,  0., 17.,  0.,  0.,  0.,  0.,\n",
       "         0., 30.,  0.,  0.,  0.,  0., 10.,  0.,  0.,  0.,  0.,  0., 23.,\n",
       "         0.,  0.,  0.,  0.,  0.,  6.,  0.,  0.,  0.,  0., 13.,  0.,  0.,\n",
       "         0.,  0.,  0., 25.,  0.,  0.,  0.,  0.,  0.,  7.,  0.,  0.,  0.,\n",
       "         0., 14.,  0.,  0.,  0.,  0.,  0., 22.,  0.,  0.,  0.,  0.,  8.,\n",
       "         0.,  0.,  0.,  0.,  0., 16.,  0.,  0.,  0.,  0.,  0.,  4.,  0.,\n",
       "         0.,  0.,  0., 10.,  0.,  0.,  0.,  0.,  0., 22.,  0.,  0.,  0.,\n",
       "         0.,  7.,  0.,  0.,  0.,  0.,  0., 15.,  0.,  0.,  0.,  0.,  0.,\n",
       "         3.,  0.,  0.,  0.,  0.,  9.,  0.,  0.,  0.,  0.,  0., 21.,  0.,\n",
       "         0.,  0.,  0.,  0.,  5.,  0.,  0.,  0.,  0., 11.,  0.,  0.,  0.,\n",
       "         0.,  0., 15.,  0.,  0.,  0.,  0.,  4.,  0.,  0.,  0.,  0.,  0.,\n",
       "        10.,  0.,  0.,  0.,  0.,  0.,  3.,  0.,  0.,  0.,  0.,  8.,  0.,\n",
       "         0.,  0.,  0.,  0., 15.,  0.,  0.,  0.,  0.,  3.,  0.,  0.,  0.,\n",
       "         0.,  0.,  8.,  0.,  0.,  0.,  0.,  0.,  0.,  0.,  0.,  0.,  0.,\n",
       "         3.,  0.,  0.,  0.,  0.,  0., 10.,  0.,  0.,  0.,  0.,  0.,  1.,\n",
       "         0.,  0.,  0.,  0.,  5.,  0.,  0.,  0.,  0.,  0.,  0.,  0.,  0.,\n",
       "         0.,  0.,  1.,  0.,  0.,  0.,  0.,  0.,  7.,  0.,  0.,  0.,  0.,\n",
       "         0.,  1.,  0.,  0.,  0.,  0.,  2.,  0.,  0.,  0.,  0.,  0.,  4.,\n",
       "         0.,  0.,  0.,  0.,  0.,  2.,  0.,  0.,  0.,  0.,  6.,  0.,  0.,\n",
       "         0.,  0.,  0.,  2.,  0.,  0.,  0.,  0.,  3.,  0.,  0.,  0.,  0.,\n",
       "         0.,  6.,  0.,  0.,  0.,  0.,  0.,  1.,  0.,  0.,  0.,  0.,  3.,\n",
       "         0.,  0.,  0.,  0.,  0.,  0.,  0.,  0.,  0.,  0.,  1.,  0.,  0.,\n",
       "         0.,  0.,  0.,  3.,  0.,  0.,  0.,  0.,  0.,  1.,  0.,  0.,  0.,\n",
       "         0.,  2.,  0.,  0.,  0.,  0.,  0.,  1.,  0.,  0.,  0.,  0.,  0.,\n",
       "         2.,  0.,  0.,  0.,  0.,  3.,  0.,  0.,  0.,  0.,  0.,  1.,  0.,\n",
       "         0.,  0.,  0.,  2.,  0.,  0.,  0.,  0.,  0.,  6.,  0.,  0.,  0.,\n",
       "         0.,  0.,  2.,  0.,  0.,  0.,  0.,  5.,  0.,  0.,  0.,  0.,  0.,\n",
       "         2.,  0.,  0.,  0.,  0.,  0.,  3.,  0.,  0.,  0.,  0.,  6.,  0.,\n",
       "         0.,  0.,  0.,  0.,  2.,  0.,  0.,  0.,  0.,  4.,  0.,  0.,  0.,\n",
       "         0.,  0.,  3.,  0.,  0.,  0.,  0.,  0.,  3.,  0.,  0.,  0.,  0.,\n",
       "         7.,  0.,  0.,  0.,  0.,  0.,  2.,  0.,  0.,  0.,  0.,  5.,  0.,\n",
       "         0.,  0.,  0.,  0., 10.,  0.,  0.,  0.,  0.,  0.,  2.,  0.,  0.,\n",
       "         0.,  0.,  5.,  0.,  0.,  0.,  0.,  0.,  2.,  0.,  0.,  0.,  0.,\n",
       "         0.,  4.,  0.,  0.,  0.,  0.,  7.,  0.,  0.,  0.,  0.,  0.,  4.,\n",
       "         0.,  0.,  0.,  0.,  6.,  0.,  0.,  0.,  0.,  0.,  4.,  0.,  0.,\n",
       "         0.,  0.,  0.,  6.,  0.,  0.,  0.,  0.,  8.,  0.,  0.,  0.,  0.,\n",
       "         0.,  5.,  0.,  0.,  0.,  0.,  7.,  0.,  0.,  0.,  0.,  0.,  5.,\n",
       "         0.,  0.,  0.,  0.,  0.,  7.,  0.,  0.,  0.,  0., 10.,  0.,  0.,\n",
       "         0.,  0.,  0.,  4.,  0.,  0.,  0.,  0.,  0.,  7.,  0.,  0.,  0.,\n",
       "         0., 14.,  0.,  0.,  0.,  0.,  0.,  6.,  0.,  0.,  0.,  0., 11.,\n",
       "         0.,  0.,  0.,  0.,  0.,  4.,  0.,  0.,  0.,  0.,  0.,  8.,  0.,\n",
       "         0.,  0.,  0., 14.,  0.,  0.,  0.,  0.,  0.,  4.,  0.,  0.,  0.,\n",
       "         0.,  0.,  9.,  0.,  0.,  0.,  0.,  1.,  0.,  0.,  0.,  0.,  0.,\n",
       "         5.,  0.,  0.,  0.,  0., 11.,  0.,  0.,  0.,  0.,  0.,  2.,  0.,\n",
       "         0.,  0.,  0.,  0.,  6.,  0.,  0.,  0.,  0., 15.,  0.,  0.,  0.,\n",
       "         0.,  0.,  1.,  0.,  0.,  0.,  0.,  7.,  0.,  0.,  0.,  0.,  0.,\n",
       "         0.,  0.,  0.,  0.,  0.,  0.,  3.,  0.,  0.,  0.,  0.,  9.,  0.,\n",
       "         0.,  0.,  0.,  0.,  0.,  0.,  0.,  0.,  0.,  0.,  2.,  0.,  0.,\n",
       "         0.,  0.,  0.,  0.,  0.,  0.,  0.,  0.,  0.,  0.,  0.,  0.,  0.,\n",
       "         3.,  0.,  0.,  0.,  0.,  0.,  0.,  0.,  0.,  0.,  0.,  0.,  2.,\n",
       "         0.,  0.,  0.,  0.,  5.,  0.,  0.,  0.,  0.,  0.,  1.,  0.,  0.,\n",
       "         0.,  0.,  4.,  0.,  0.,  0.,  0.,  0.,  0.,  0.,  0.,  0.,  0.,\n",
       "         0.,  0.,  0.,  0.,  0.,  0.,  5.,  0.,  0.,  0.,  0.,  0.,  0.,\n",
       "         0.,  0.,  0.,  0.,  0.,  0.,  0.,  0.,  0.,  0.,  0.,  0.,  0.,\n",
       "         0.,  0.,  0.,  0.,  0.,  0.,  0.,  0.,  2.,  0.,  0.,  0.,  0.,\n",
       "         0.,  0.,  0.,  0.,  0.,  0.,  0.,  0.,  0.,  0.,  0.,  0.,  0.,\n",
       "         0.,  0.,  0.,  0.,  0.,  0.,  0.,  0.,  0.,  0.,  0.,  0.,  0.,\n",
       "         0.,  0.,  0.,  0.,  0.,  0.,  0.,  0.,  0.,  0.,  0.,  0.,  0.,\n",
       "         0.,  0.,  0.,  0.,  0.,  0.,  0.,  0.,  0.,  0.,  0.,  0.,  0.,\n",
       "         0.,  0.,  0.,  0.,  0.,  0.,  0.,  0.,  0.,  0.,  0.,  0.,  0.,\n",
       "         0.,  0.,  0.,  0.,  0.,  0.,  0.,  0.,  0.,  0.,  0.,  0.,  0.,\n",
       "         0.,  0.,  0.,  0.,  0.,  0.,  0.,  0.,  0.,  0.,  0.,  0.,  0.,\n",
       "         0.,  0.,  0.,  0.,  0.,  0.,  1.,  0.,  0.,  0.,  0.,  0.,  0.,\n",
       "         0.,  0.,  0.,  0.,  0.,  0.,  0.,  0.,  0.,  1.,  0.,  0.,  0.,\n",
       "         0.,  0.,  0.,  0.,  0.,  0.,  0.,  0.,  0.,  0.,  0.,  0.,  0.,\n",
       "         0.,  0.,  0.,  0.,  0.,  0.,  0.,  0.,  0.,  0.,  0.,  1.]),\n",
       " array([  0.   ,   0.178,   0.356, ..., 177.644, 177.822, 178.   ]),\n",
       " <BarContainer object of 1000 artists>)"
      ]
     },
     "execution_count": 16,
     "metadata": {},
     "output_type": "execute_result"
    },
    {
     "data": {
      "image/png": "[encoded data removed]",
      "text/plain": [
       "<Figure size 432x288 with 1 Axes>"
      ]
     },
     "metadata": {
      "needs_background": "light"
     },
     "output_type": "display_data"
    }
   ],
   "source": [
    "plt.hist(dict,bins=1000,edgecolor=\"black\")"
   ]
  },
  {
   "cell_type": "code",
   "execution_count": null,
   "metadata": {},
   "outputs": [],
   "source": []
  },
  {
   "cell_type": "code",
   "execution_count": null,
   "metadata": {},
   "outputs": [],
   "source": []
  }
 ],
 "metadata": {
  "kernelspec": {
   "display_name": "Python 3",
   "language": "python",
   "name": "python3"
  },
  "language_info": {
   "codemirror_mode": {
    "name": "ipython",
    "version": 3
   },
   "file_extension": ".py",
   "mimetype": "text/x-python",
   "name": "python",
   "nbconvert_exporter": "python",
   "pygments_lexer": "ipython3",
   "version": "3.8.5"
  }
 },
 "nbformat": 4,
 "nbformat_minor": 4
}
